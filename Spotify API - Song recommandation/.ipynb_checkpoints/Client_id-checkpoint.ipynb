{
 "cells": [
  {
   "cell_type": "code",
   "execution_count": 1,
   "id": "b9c60c41-853f-43ea-bc7c-cb0b488f9f72",
   "metadata": {},
   "outputs": [],
   "source": [
    "c_id = \"8accbfbcd8a34c898dd8c7c7348b9258\"\n",
    "c_se =\"12f1332683104b0685f2978adebff529\""
   ]
  }
 ],
 "metadata": {
  "kernelspec": {
   "display_name": "Python 3 (ipykernel)",
   "language": "python",
   "name": "python3"
  },
  "language_info": {
   "codemirror_mode": {
    "name": "ipython",
    "version": 3
   },
   "file_extension": ".py",
   "mimetype": "text/x-python",
   "name": "python",
   "nbconvert_exporter": "python",
   "pygments_lexer": "ipython3",
   "version": "3.9.13"
  }
 },
 "nbformat": 4,
 "nbformat_minor": 5
}
