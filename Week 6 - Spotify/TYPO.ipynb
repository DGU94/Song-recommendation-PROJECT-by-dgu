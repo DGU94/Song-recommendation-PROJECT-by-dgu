{
 "cells": [
  {
   "cell_type": "code",
   "execution_count": 1,
   "id": "b9c60c41-853f-43ea-bc7c-cb0b488f9f72",
   "metadata": {},
   "outputs": [],
   "source": [
    "#Typo function using Fuzzywuzzy\n",
    "\n",
    "from fuzzywuzzy import fuzz\n",
    "from fuzzywuzzy import process\n",
    "\n",
    "string1 = input(\"put a word :\")\n",
    "string2 = string2['apples', 'banana', 'tomato']\n",
    "\n",
    "similarity_ratio = fuzz.partial_ratio(string1, string2)\n",
    "print(similarity_ratio)\n",
    "\n",
    "\n",
    "def typo():\n",
    "for check in User_song:\n",
    "    if similarity_ratio > 90:\n",
    "\n",
    "    elif\n",
    "    print(f\"do you mind : {string2} ?\")\n",
    "\n",
    "print(\"Nice song ... why not trying this song  : \")\n",
    "    sample_row = HMR.sample()\n",
    "    row_values = sample_row.iloc[0].to_list()\n",
    "    word = \" FROM \"\n",
    "    print(f\"{row_values[0]} {word} {row_values[1]}\")\n",
    "    print(\"        \\U0001F3B8 \\U0001F3B8 \\U0001F3B8 \\U0001F3B8 \\U0001F3B8 \\U0001F3B8\")"
   ]
  }
 ],
 "metadata": {
  "kernelspec": {
   "display_name": "Python 3 (ipykernel)",
   "language": "python",
   "name": "python3"
  },
  "language_info": {
   "codemirror_mode": {
    "name": "ipython",
    "version": 3
   },
   "file_extension": ".py",
   "mimetype": "text/x-python",
   "name": "python",
   "nbconvert_exporter": "python",
   "pygments_lexer": "ipython3",
   "version": "3.9.13"
  }
 },
 "nbformat": 4,
 "nbformat_minor": 5
}
